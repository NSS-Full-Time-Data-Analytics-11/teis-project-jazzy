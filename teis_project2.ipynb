{
 "cells": [
  {
   "cell_type": "code",
   "execution_count": null,
   "id": "bf8cffd0-bbd7-49e8-b742-10401dd1c576",
   "metadata": {},
   "outputs": [],
   "source": [
    "import pandas as pd\n",
    "import numpy as np\n",
    "import matplotlib.pyplot as plt\n",
    "import seaborn as sns\n",
    "import re\n",
    "\n",
    "%matplotlib inline\n",
    "pd.set_option('display.max_columns', None)"
   ]
  },
  {
   "cell_type": "code",
   "execution_count": null,
   "id": "cb64fb8b-18aa-451e-98b5-00ab70130123",
   "metadata": {},
   "outputs": [],
   "source": [
    "colors = [\"#C37681\", \"#5BAC82\", \"#838385\", \"#89C1DF\", \"#EAE086\", \"#F1B87E\"]\n",
    "# Set your custom color palette\n",
    "sns.set_palette(sns.color_palette(colors))"
   ]
  },
  {
   "cell_type": "code",
   "execution_count": null,
   "id": "71eb6145-0e7d-409c-8101-70c78f7d236d",
   "metadata": {},
   "outputs": [],
   "source": [
    "adaptive = sns.color_palette('light:#C37681')\n",
    "cognitive = sns.color_palette('light:#EAE086')\n",
    "communication = sns.color_palette('light:#838385')\n",
    "motor = sns.color_palette('light:#89C1DF')\n",
    "socialemo = sns.color_palette('light:#5BAC82')\n"
   ]
  },
  {
   "cell_type": "code",
   "execution_count": null,
   "id": "6f181a94-0f7f-4291-ba56-514be8cf3164",
   "metadata": {},
   "outputs": [],
   "source": [
    "teis = pd.read_csv('data/teis.csv')"
   ]
  },
  {
   "cell_type": "code",
   "execution_count": null,
   "id": "620d3515-45a8-4c1b-8e3b-bd5f1371a7d4",
   "metadata": {},
   "outputs": [],
   "source": [
    "teis.head(1)"
   ]
  },
  {
   "cell_type": "code",
   "execution_count": null,
   "id": "0b38d000-8c83-4af9-8fb3-387c809e4048",
   "metadata": {},
   "outputs": [],
   "source": [
    "teis_pr_domains = teis[['Adaptive Percentile Rank', 'Social-Emotional Percentile Rank', 'Communication Percentile Rank',  'Motor Percentile Rank', 'Cognitive Percentile Rank', 'BDI-3 Total Percentile Rank']]  \n",
    "teis_pr_subdomains = teis[['Adaptive-Self Care PR', 'Adaptive-Personal Responsibility PR', 'Social Emotional-Adult Interaction PR', 'Social Emotional-Peer Interaction PR', 'Social Emotional-Self Concept / Social Role PR', 'Communication-Receptive Communication PR', 'Communication-Expressive Communication PR', 'Motor-Gross Motor PR', 'Motor-Fine Motor PR', 'Motor-Perceptual Motor PR', 'Cognitive-Attention and Memory PR', 'Cognitive-Reasoning / Academic Skills PR', 'Cognitive-Perception and Concepts PR']]"
   ]
  },
  {
   "cell_type": "code",
   "execution_count": null,
   "id": "24b50d71-c0cd-4551-9146-ae7ae5ca32b9",
   "metadata": {},
   "outputs": [],
   "source": [
    "sns.boxplot(data=teis_pr_domains)\n",
    "plt.axhline(y=50, color='r', linestyle='--', label='50th Percentile')\n",
    "plt.title('Box Plot for Percentile Ranks')\n",
    "plt.ylabel('Percentile Rank')\n",
    "plt.xticks(rotation=45, ha='right')  #x-axis labels at a 45-degree angle\n",
    "plt.legend()\n",
    "plt.savefig('data/q1_domain_chart.png')"
   ]
  },
  {
   "cell_type": "code",
   "execution_count": null,
   "id": "8969841d-c9ab-4424-bdaf-18d6919495a6",
   "metadata": {},
   "outputs": [],
   "source": [
    "sns.boxplot(data=teis_pr_subdomains)\n",
    "plt.axhline(y=50, color='r', linestyle='--', label='50th Percentile') # horizontal line at the 50th percentile mark\n",
    "plt.title('Box Plot for Percentile Ranks')\n",
    "plt.ylabel('Percentile Rank')\n",
    "plt.xticks(rotation=45, ha='right')  #x-axis labels at a 45-degree angle\n",
    "plt.legend()\n"
   ]
  },
  {
   "cell_type": "code",
   "execution_count": null,
   "id": "5025348f-a154-421b-a7bf-61b43db97155",
   "metadata": {},
   "outputs": [],
   "source": [
    "colors = [\"#C37681\"] * 2 + [\"#5BAC82\"] * 3 + [\"#838385\"] * 2 + [\"#89C1DF\"] * 3 + [\"#EAE086\"] * 3\n",
    "\n",
    "# Create a boxplot using seaborn with custom color assignments\n",
    "sns.boxplot(data=teis_pr_subdomains, palette=colors)\n",
    "\n",
    "# Add a horizontal line at the 50th percentile mark\n",
    "plt.axhline(y=50, color='r', linestyle='--', label='50th Percentile')\n",
    "\n",
    "# Set plot title and labels\n",
    "plt.title('Box Plot for Percentile Ranks')\n",
    "plt.ylabel('Percentile Rank')\n",
    "plt.xticks(rotation=45, ha='right')  # x-axis labels at a 45-degree angle\n",
    "plt.legend()\n",
    "plt.savefig('data/q1_subdomain_chart.png')\n"
   ]
  },
  {
   "cell_type": "markdown",
   "id": "1684d4ff-f700-4a8f-9bae-1415aaa28e62",
   "metadata": {},
   "source": [
    "teis_pr_domains = teis_pr_domains.loc[\n",
    "    ~((teis_pr_domains['Adaptive Percentile Rank'] == 0) &\n",
    "      (teis_pr_domains['Social-Emotional Percentile Rank'] == 0) &\n",
    "      (teis_pr_domains['Communication Percentile Rank'] == 0) &\n",
    "      (teis_pr_domains['Motor Percentile Rank'] == 0) &\n",
    "      (teis_pr_domains['Cognitive Percentile Rank'] == 0))\n",
    "]\n",
    "teis_pr_domains"
   ]
  },
  {
   "cell_type": "markdown",
   "id": "2446e73f-3c86-41b8-8409-c57bb2de7cd8",
   "metadata": {},
   "source": [
    "teis_domains  teis_subdomains  use both these dataframes. find min, max, mean for each perceintile rank. thenfidn out standard deviation for each column. from here look at standard devations accros the entire data frame  to detmrien patters in standard deviaton. "
   ]
  },
  {
   "cell_type": "code",
   "execution_count": null,
   "id": "6240dbfa-c824-4148-b699-9c43c2dbfee5",
   "metadata": {},
   "outputs": [],
   "source": [
    "teis_pr_domains1 = teis_pr_domains.copy()"
   ]
  },
  {
   "cell_type": "code",
   "execution_count": null,
   "id": "44eb8935-afb0-4289-b102-bc2e4856d196",
   "metadata": {},
   "outputs": [],
   "source": [
    "teis_pr_domains1['min'] = teis_pr_domains1.min(axis=1)\n",
    "teis_pr_domains1['max'] = teis_pr_domains1.max(axis=1)\n",
    "teis_pr_domains1['std'] = teis_pr_domains1.std(axis=1).round(2)\n",
    "teis_pr_domains1['mean_score'] = teis_pr_domains1.mean(axis=1).round(2)"
   ]
  },
  {
   "cell_type": "code",
   "execution_count": null,
   "id": "da5be2f7-f996-45a8-97d8-155dc1b76a83",
   "metadata": {},
   "outputs": [],
   "source": [
    "teis_pr_domains1"
   ]
  },
  {
   "cell_type": "code",
   "execution_count": null,
   "id": "0fc6a674-c336-49f7-b7f4-66b109062c03",
   "metadata": {},
   "outputs": [],
   "source": [
    "teis_pr_domains1.corr().round(3)"
   ]
  },
  {
   "cell_type": "code",
   "execution_count": null,
   "id": "88e25a52-71b3-4542-a4d4-1cfc9eed31a5",
   "metadata": {},
   "outputs": [],
   "source": [
    "teis_pr_domains1.describe().round(2)"
   ]
  },
  {
   "cell_type": "code",
   "execution_count": null,
   "id": "f0aeb338-75a0-4525-8701-4132d1c9bab9",
   "metadata": {},
   "outputs": [],
   "source": [
    "teis_pr_domains2 = teis_pr_domains1.copy()"
   ]
  },
  {
   "cell_type": "code",
   "execution_count": null,
   "id": "68aac551-ab67-4938-bce0-467be9699fcd",
   "metadata": {},
   "outputs": [],
   "source": [
    "teis_pr_domains2['ADAP PR Mean Dif'] = (teis_pr_domains2['Adaptive Percentile Rank'] - teis_pr_domains2['Adaptive Percentile Rank'].mean()).round(2)\n",
    "teis_pr_domains2['SOC PR Mean Dif'] = (teis_pr_domains2['Social-Emotional Percentile Rank'] - teis_pr_domains2['Social-Emotional Percentile Rank'].mean()).round(2)\n",
    "teis_pr_domains2['COM PR Mean Dif'] = (teis_pr_domains2['Communication Percentile Rank'] - teis_pr_domains2['Communication Percentile Rank'].mean()).round(2)\n",
    "teis_pr_domains2['MOT PR Mean Dif'] = (teis_pr_domains2['Motor Percentile Rank'] - teis_pr_domains2['Motor Percentile Rank'].mean()).round(2)\n",
    "teis_pr_domains2['COG PR Mean Dif'] = (teis_pr_domains2['Cognitive Percentile Rank'] - teis_pr_domains2['Cognitive Percentile Rank'].mean()).round(2)\n"
   ]
  },
  {
   "cell_type": "code",
   "execution_count": null,
   "id": "35467341-599b-4ce2-a0da-4038fb0fdc3d",
   "metadata": {},
   "outputs": [],
   "source": [
    "teis_pr_domains2 = teis_pr_domains2[['Adaptive Percentile Rank', 'ADAP PR Mean Dif', 'Social-Emotional Percentile Rank', 'SOC PR Mean Dif', 'Communication Percentile Rank', \n",
    "                                    'COM PR Mean Dif', 'Motor Percentile Rank', 'MOT PR Mean Dif', 'Cognitive Percentile Rank', 'COG PR Mean Dif', 'mean_score', 'min', 'max', 'std']]\n",
    "teis_pr_domains2"
   ]
  },
  {
   "cell_type": "code",
   "execution_count": null,
   "id": "3f8e10b0-6f05-4130-86a1-7d91de5d2460",
   "metadata": {},
   "outputs": [],
   "source": [
    "teis_q2_data = teis_pr_domains2.describe().round(2)\n",
    "teis_q2_data.to_csv('data/teis_q2_data.csv',index=False)\n",
    "teis_q2_data"
   ]
  },
  {
   "cell_type": "code",
   "execution_count": null,
   "id": "a72b70a6-0f97-410c-9d65-35af27e549c6",
   "metadata": {},
   "outputs": [],
   "source": [
    "teis_pr_domains2.corr().round(3)"
   ]
  },
  {
   "cell_type": "code",
   "execution_count": null,
   "id": "d4eb6afa-ef19-4ec7-a656-2d0483c00e23",
   "metadata": {},
   "outputs": [],
   "source": [
    "#numbers come from 75th percentile\n",
    "teis_min_max = teis_pr_domains1[(teis_pr_domains1['min'] < 16) & (teis_pr_domains1['max'] > 81)]\n",
    "teis_min_max.corr().round(3)"
   ]
  },
  {
   "cell_type": "code",
   "execution_count": null,
   "id": "78beea3a-d3cc-4475-86b1-451d86adeeed",
   "metadata": {},
   "outputs": [],
   "source": [
    "#numbers come from 25th and 75th percentile\n",
    "teis_min_max2 = teis_pr_domains1[(teis_pr_domains1['min'] <= 0) & (teis_pr_domains1['max'] > 81)]\n",
    "teis_min_max2.corr().round(3)"
   ]
  },
  {
   "cell_type": "code",
   "execution_count": null,
   "id": "0feda3af-f360-4cc5-a723-7726e9274c43",
   "metadata": {},
   "outputs": [],
   "source": [
    "teis_average = teis_pr_domains1[(teis_pr_domains1['min'] < 16)]\n",
    "teis_average.corr().round(3)"
   ]
  },
  {
   "cell_type": "code",
   "execution_count": null,
   "id": "bcb608fa-881b-4eb6-82a1-a64846cbe692",
   "metadata": {},
   "outputs": [],
   "source": [
    "teis_max3 = teis_pr_domains1[(teis_pr_domains1['max'] > 81)]\n",
    "teis_max3.corr().round(3)"
   ]
  },
  {
   "cell_type": "code",
   "execution_count": null,
   "id": "31e85743-dac8-4dd8-9c46-e1f397eb76a0",
   "metadata": {},
   "outputs": [],
   "source": []
  }
 ],
 "metadata": {
  "kernelspec": {
   "display_name": "Python 3 (ipykernel)",
   "language": "python",
   "name": "python3"
  },
  "language_info": {
   "codemirror_mode": {
    "name": "ipython",
    "version": 3
   },
   "file_extension": ".py",
   "mimetype": "text/x-python",
   "name": "python",
   "nbconvert_exporter": "python",
   "pygments_lexer": "ipython3",
   "version": "3.11.5"
  }
 },
 "nbformat": 4,
 "nbformat_minor": 5
}
