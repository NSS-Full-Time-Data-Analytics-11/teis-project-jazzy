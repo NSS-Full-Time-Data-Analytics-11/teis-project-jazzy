{
 "cells": [
  {
   "cell_type": "code",
   "execution_count": null,
   "id": "5d51c67c-bbfe-4d0f-b3cb-ef108a02c257",
   "metadata": {},
   "outputs": [],
   "source": [
    "import pandas as pd\n",
    "import numpy as np\n",
    "import matplotlib.pyplot as plt\n",
    "import seaborn as sns\n",
    "import re\n",
    "\n",
    "%matplotlib inline\n",
    "pd.set_option('display.max_columns', None)"
   ]
  },
  {
   "cell_type": "markdown",
   "id": "65aa11f0-0120-4498-9ae1-93150db9f85c",
   "metadata": {},
   "source": [
    "columns = [col for col in teis.columns if 'Z-Score' in col]\n",
    "print(columns)"
   ]
  },
  {
   "cell_type": "code",
   "execution_count": null,
   "id": "1ceaa2e8-8e17-4fe7-aa4a-d2b0e40a0dff",
   "metadata": {},
   "outputs": [],
   "source": [
    "teis = pd.read_excel('data/BDI3 All Evals for NSS 11-2023.xlsx')"
   ]
  },
  {
   "cell_type": "code",
   "execution_count": null,
   "id": "d13d22ab-4130-4f3b-8398-8b1269090b1c",
   "metadata": {
    "scrolled": true
   },
   "outputs": [],
   "source": [
    "# drop duplicate rows\n",
    "teis1=teis.drop_duplicates()\n"
   ]
  },
  {
   "cell_type": "code",
   "execution_count": null,
   "id": "c2bee074-4702-44cc-a3b3-6865c71cfa6d",
   "metadata": {},
   "outputs": [],
   "source": [
    "teis.head(10)"
   ]
  },
  {
   "cell_type": "code",
   "execution_count": null,
   "id": "feea9309-8358-45eb-bde9-fc26f1079d6a",
   "metadata": {},
   "outputs": [],
   "source": [
    "filtered_rows = teis[\n",
    "    (teis['Adaptive Percentile Rank'] == 0) &\n",
    "    (teis['Social-Emotional Percentile Rank'] == 0) &\n",
    "    (teis['Communication Percentile Rank'] == 0) &\n",
    "    (teis['Motor Percentile Rank'] == 0) &\n",
    "    (teis['Cognitive Percentile Rank'] == 0)]\n",
    "filtered_rows"
   ]
  },
  {
   "cell_type": "markdown",
   "id": "d848a01b-a298-4dc8-a04c-1e58c39e2aca",
   "metadata": {},
   "source": [
    "print(teis1['Adaptive Z-Score'])"
   ]
  },
  {
   "cell_type": "code",
   "execution_count": null,
   "id": "30661eaa-97bf-4b9f-a7c2-f3c287a08f7c",
   "metadata": {},
   "outputs": [],
   "source": [
    "columns_to_convert = [col for col in teis.columns if 'Percentile Rank' in col or 'PR' in col]\n",
    "\n",
    "def convert_to_float(x):\n",
    "    if pd.isnull(x):  \n",
    "        return x\n",
    "    try:\n",
    "        numeric_value = float(pd.to_numeric(x, errors='coerce'))\n",
    "        return max(0, np.floor(numeric_value))\n",
    "    except (ValueError, TypeError):\n",
    "        return 0.0  \n",
    "\n",
    "for column in columns_to_convert:\n",
    "    teis[column] = teis[column].apply(convert_to_float)"
   ]
  },
  {
   "cell_type": "code",
   "execution_count": null,
   "id": "dfc2267e-6433-478a-b063-6ae321c7c653",
   "metadata": {},
   "outputs": [],
   "source": [
    "teis.head(10)"
   ]
  },
  {
   "cell_type": "code",
   "execution_count": null,
   "id": "8d5a3ce5-a97d-4a03-a0fb-08e13fb147a1",
   "metadata": {},
   "outputs": [],
   "source": [
    "teis.to_csv('data/teis.csv',index=False)"
   ]
  },
  {
   "cell_type": "code",
   "execution_count": null,
   "id": "b0a62d0a-4ba8-41bb-b907-bdb959231fda",
   "metadata": {},
   "outputs": [],
   "source": [
    "print(teis['Adaptive Percentile Rank'])"
   ]
  },
  {
   "cell_type": "code",
   "execution_count": null,
   "id": "e408f9d8-7ea8-4f12-85e5-cf79085c08a6",
   "metadata": {},
   "outputs": [],
   "source": [
    "teis_domains = teis[['Adaptive Percentile Rank', 'Social-Emotional Percentile Rank', 'Communication Percentile Rank',  'Motor Percentile Rank', 'Cognitive Percentile Rank']]  \n",
    "teis_subdomains = teis[['Adaptive-Self Care PR', 'Adaptive-Personal Responsibility PR', 'Social Emotional-Adult Interaction PR', 'Social Emotional-Peer Interaction PR', 'Social Emotional-Self Concept / Social Role PR', 'Communication-Receptive Communication PR', 'Communication-Expressive Communication PR', 'Motor-Gross Motor PR', 'Motor-Fine Motor PR', 'Motor-Perceptual Motor PR', 'Cognitive-Attention and Memory PR', 'Cognitive-Reasoning / Academic Skills PR', 'Cognitive-Perception and Concepts PR']]"
   ]
  },
  {
   "cell_type": "code",
   "execution_count": null,
   "id": "dd6d7894-094f-4d7a-9d8e-908173824652",
   "metadata": {},
   "outputs": [],
   "source": [
    "teis_domains.head(20)"
   ]
  },
  {
   "cell_type": "code",
   "execution_count": null,
   "id": "3b07aa04-65fa-4e64-9626-645cd5ada68c",
   "metadata": {
    "scrolled": true
   },
   "outputs": [],
   "source": [
    "teis_subdomains.head(20)"
   ]
  },
  {
   "cell_type": "markdown",
   "id": "fc27d830-2dcf-474d-830e-ec3ea443404c",
   "metadata": {},
   "source": [
    "columns_to_convert = [col for col in teis.columns if 'Percentile Rank' in col]\n",
    "\n",
    "def convert_to_float(x):\n",
    "    if pd.isnull(x):  # Check if the value is null\n",
    "        return x\n",
    "    try:\n",
    "        return float(pd.to_numeric(x, errors='coerce'))\n",
    "    except (ValueError, TypeError):\n",
    "        return 0.0  # Return 0.0 for conversion failures\n",
    "\n",
    "for column in columns_to_convert:\n",
    "    teis[column] = teis[column].apply(convert_to_float)"
   ]
  },
  {
   "cell_type": "code",
   "execution_count": null,
   "id": "a859fdb4-9957-4371-9a1b-c84922eb1597",
   "metadata": {},
   "outputs": [],
   "source": [
    "print(teis_domains.mean())\n",
    "print(teis_domains.median())"
   ]
  },
  {
   "cell_type": "code",
   "execution_count": null,
   "id": "f5a05633-82b4-4633-954e-4b6617d8bc36",
   "metadata": {},
   "outputs": [],
   "source": [
    "sns.boxplot(data=teis_domains)\n",
    "\n",
    "# horizontal line at the 50th percentile mark\n",
    "plt.axhline(y=50, color='r', linestyle='--', label='50th Percentile')\n",
    "plt.title('Box Plot for Percentile Ranks')\n",
    "plt.ylabel('Percentile Rank')\n",
    "plt.xticks(rotation=45, ha='right')  # Rotate x-axis labels at a 45-degree angle\n",
    "plt.legend()\n"
   ]
  },
  {
   "cell_type": "code",
   "execution_count": null,
   "id": "2a1729f9-66fd-4dc0-89de-ae73128423aa",
   "metadata": {},
   "outputs": [],
   "source": [
    "sns.boxplot(data=teis_subdomains)\n",
    "\n",
    "# horizontal line at the 50th percentile mark\n",
    "plt.axhline(y=50, color='r', linestyle='--', label='50th Percentile')\n",
    "plt.title('Box Plot for Percentile Ranks')\n",
    "plt.ylabel('Percentile Rank')\n",
    "plt.xticks(rotation=45, ha='right')  \n",
    "plt.legend()\n"
   ]
  },
  {
   "cell_type": "code",
   "execution_count": null,
   "id": "b385091a-3678-4502-8c25-242172320dc8",
   "metadata": {},
   "outputs": [],
   "source": []
  }
 ],
 "metadata": {
  "kernelspec": {
   "display_name": "Python 3 (ipykernel)",
   "language": "python",
   "name": "python3"
  },
  "language_info": {
   "codemirror_mode": {
    "name": "ipython",
    "version": 3
   },
   "file_extension": ".py",
   "mimetype": "text/x-python",
   "name": "python",
   "nbconvert_exporter": "python",
   "pygments_lexer": "ipython3",
   "version": "3.11.5"
  }
 },
 "nbformat": 4,
 "nbformat_minor": 5
}
