{
 "cells": [
  {
   "cell_type": "code",
   "execution_count": null,
   "id": "39bf2817",
   "metadata": {},
   "outputs": [],
   "source": [
    "import pandas as pd\n",
    "import numpy as np\n",
    "import re\n",
    "import datetime"
   ]
  },
  {
   "cell_type": "code",
   "execution_count": null,
   "id": "95bc5459",
   "metadata": {
    "scrolled": true
   },
   "outputs": [],
   "source": [
    "data = pd.read_csv('../data/all_evals.csv')\n",
    "data"
   ]
  },
  {
   "cell_type": "code",
   "execution_count": null,
   "id": "f6d98e63",
   "metadata": {},
   "outputs": [],
   "source": [
    "data.loc[data['Code 1'] == None]"
   ]
  },
  {
   "cell_type": "code",
   "execution_count": null,
   "id": "a31fba7e",
   "metadata": {
    "scrolled": true
   },
   "outputs": [],
   "source": [
    "data.replace(np.nan, None)"
   ]
  },
  {
   "cell_type": "code",
   "execution_count": null,
   "id": "4e3d437b",
   "metadata": {
    "scrolled": true
   },
   "outputs": [],
   "source": [
    "data.loc[pd.isna(data['Code 8'])]"
   ]
  },
  {
   "cell_type": "code",
   "execution_count": null,
   "id": "e7656b98",
   "metadata": {
    "scrolled": true
   },
   "outputs": [],
   "source": [
    "code_cols = []\n",
    "pattern = re.compile('Code')\n",
    "\n",
    "for col in data.columns:\n",
    "    if re.search(pattern,col):\n",
    "        code_cols.append(col)\n",
    "#end\n",
    "\n",
    "data = data.drop(columns = code_cols)\n",
    "data"
   ]
  },
  {
   "cell_type": "code",
   "execution_count": null,
   "id": "3aa7109f",
   "metadata": {},
   "outputs": [],
   "source": [
    "data['Adaptive RDI']"
   ]
  },
  {
   "cell_type": "code",
   "execution_count": null,
   "id": "cca7569e",
   "metadata": {},
   "outputs": [],
   "source": [
    "pattern = r'\\d{2}\\/90'\n",
    "print(pattern)\n",
    "print(re.search(pattern,'23/90'))"
   ]
  },
  {
   "cell_type": "code",
   "execution_count": null,
   "id": "63ea20a1",
   "metadata": {
    "scrolled": true
   },
   "outputs": [],
   "source": [
    "new_vals = []\n",
    "\n",
    "for value in data['Adaptive RDI']:\n",
    "    if re.search(pattern,str(value)):\n",
    "        new_vals.append(value)\n",
    "    else:\n",
    "        print(value, type(value))\n",
    "        if str(value)[0] == '<':\n",
    "            new_vals.append(str(value))\n",
    "        elif type(value) == float:\n",
    "            print('NEW VALUE:',np.nan)\n",
    "            new_vals.append(np.nan)\n",
    "        else:\n",
    "            date = datetime.datetime.strptime(value, '%b-%y')\n",
    "            new_val = str(date.month)+'/90'\n",
    "            print('NEW VALUE:',new_val)\n",
    "            new_vals.append(new_val)"
   ]
  },
  {
   "cell_type": "code",
   "execution_count": null,
   "id": "9ff84e26",
   "metadata": {
    "scrolled": true
   },
   "outputs": [],
   "source": [
    "new_vals"
   ]
  },
  {
   "cell_type": "code",
   "execution_count": null,
   "id": "f3befb76",
   "metadata": {
    "scrolled": true
   },
   "outputs": [],
   "source": [
    "data['Adaptive RDI'] = new_vals\n",
    "data.dtypes"
   ]
  },
  {
   "cell_type": "code",
   "execution_count": null,
   "id": "a6e74bcf",
   "metadata": {
    "scrolled": true
   },
   "outputs": [],
   "source": [
    "list(data.columns)"
   ]
  },
  {
   "cell_type": "code",
   "execution_count": null,
   "id": "64a8f05b",
   "metadata": {
    "scrolled": true
   },
   "outputs": [],
   "source": [
    "data['Adaptive-Self Care AE']"
   ]
  },
  {
   "cell_type": "code",
   "execution_count": null,
   "id": "d2368c49",
   "metadata": {},
   "outputs": [],
   "source": [
    "~data.duplicated()"
   ]
  },
  {
   "cell_type": "code",
   "execution_count": null,
   "id": "33b363a7",
   "metadata": {
    "scrolled": true
   },
   "outputs": [],
   "source": [
    "data = data.loc[~data.duplicated()]\n",
    "data"
   ]
  },
  {
   "cell_type": "code",
   "execution_count": null,
   "id": "e3951b96",
   "metadata": {},
   "outputs": [],
   "source": [
    "pattern = re.compile('Date of Testing')\n",
    "dates = []\n",
    "\n",
    "for col in data.columns:\n",
    "    if re.search(pattern,col):\n",
    "        dates.append(col)\n",
    "#end\n",
    "\n",
    "testing_dates = data[dates]\n",
    "testing_dates"
   ]
  },
  {
   "cell_type": "code",
   "execution_count": null,
   "id": "a2348156",
   "metadata": {},
   "outputs": [],
   "source": [
    "type(testing_dates.loc[0,'Adaptive-Self Care Date of Testing'])"
   ]
  },
  {
   "cell_type": "code",
   "execution_count": null,
   "id": "821372ae",
   "metadata": {},
   "outputs": [],
   "source": [
    "testing_dates = testing_dates.astype('datetime64')"
   ]
  },
  {
   "cell_type": "code",
   "execution_count": null,
   "id": "37a370cc",
   "metadata": {
    "scrolled": true
   },
   "outputs": [],
   "source": [
    "testing_dates = testing_dates.fillna(0)"
   ]
  },
  {
   "cell_type": "code",
   "execution_count": null,
   "id": "c1fe4735",
   "metadata": {
    "scrolled": true
   },
   "outputs": [],
   "source": [
    "testing_dates"
   ]
  },
  {
   "cell_type": "code",
   "execution_count": null,
   "id": "70b01935",
   "metadata": {},
   "outputs": [],
   "source": [
    "testing_dates.dtypes"
   ]
  },
  {
   "cell_type": "code",
   "execution_count": null,
   "id": "9d530abc",
   "metadata": {},
   "outputs": [],
   "source": [
    "type(testing_dates.loc[0,'Adaptive-Self Care Date of Testing'])"
   ]
  },
  {
   "cell_type": "code",
   "execution_count": null,
   "id": "caa518eb",
   "metadata": {},
   "outputs": [],
   "source": [
    "diff_dates = []\n",
    "\n",
    "for ind, values in testing_dates.iterrows():\n",
    "    day = values['Adaptive-Self Care Date of Testing']\n",
    "    if day == 0:\n",
    "        day = values['Adaptive-Personal Responsibility Date of Testing']\n",
    "    #print(day)\n",
    "    \n",
    "    for value in values:\n",
    "        #print(day,value)\n",
    "        if (value!=0) & (value!=day) & (day!=0):\n",
    "            try:\n",
    "                diff_dates.append((ind, day, value, abs(day-value)))\n",
    "            except:\n",
    "                diff_dates.append((ind, day, value, day-day))\n",
    "#end\n",
    "\n",
    "diff_dates"
   ]
  },
  {
   "cell_type": "code",
   "execution_count": null,
   "id": "1964e079",
   "metadata": {
    "scrolled": true
   },
   "outputs": [],
   "source": [
    "date_diff_dict = {}\n",
    "\n",
    "for date in diff_dates:\n",
    "    if date[0] not in date_diff_dict.keys():\n",
    "        date_diff_dict[date[0]] = date[3].days\n",
    "#end\n",
    "\n",
    "date_diff_dict"
   ]
  },
  {
   "cell_type": "code",
   "execution_count": null,
   "id": "a82d073a",
   "metadata": {},
   "outputs": [],
   "source": [
    "len(date_diff_dict)"
   ]
  },
  {
   "cell_type": "markdown",
   "id": "90365b84",
   "metadata": {},
   "source": [
    "There are 39 instances where the assessment took place over multiple days. Most of these cases were within 1 week of each other, while others were taken over a period of 2 weeks! We can take a look at these cases to see if anything interesting pops up."
   ]
  },
  {
   "cell_type": "code",
   "execution_count": null,
   "id": "3418212f",
   "metadata": {
    "scrolled": true
   },
   "outputs": [],
   "source": [
    "data"
   ]
  },
  {
   "cell_type": "code",
   "execution_count": null,
   "id": "b6356d54",
   "metadata": {},
   "outputs": [],
   "source": [
    "data.value_counts('Location - Sub Level 1')"
   ]
  },
  {
   "cell_type": "code",
   "execution_count": null,
   "id": "c525e2d5",
   "metadata": {},
   "outputs": [],
   "source": []
  }
 ],
 "metadata": {
  "kernelspec": {
   "display_name": "Python 3 (ipykernel)",
   "language": "python",
   "name": "python3"
  },
  "language_info": {
   "codemirror_mode": {
    "name": "ipython",
    "version": 3
   },
   "file_extension": ".py",
   "mimetype": "text/x-python",
   "name": "python",
   "nbconvert_exporter": "python",
   "pygments_lexer": "ipython3",
   "version": "3.11.4"
  }
 },
 "nbformat": 4,
 "nbformat_minor": 5
}
