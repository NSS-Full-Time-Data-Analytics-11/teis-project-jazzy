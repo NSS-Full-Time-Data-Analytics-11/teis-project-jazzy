{
 "cells": [
  {
   "cell_type": "markdown",
   "id": "ce3f2032",
   "metadata": {},
   "source": [
    "SCRAPS FROM Q 5"
   ]
  },
  {
   "cell_type": "code",
   "execution_count": 1,
   "id": "3772e58b",
   "metadata": {},
   "outputs": [
    {
     "ename": "NameError",
     "evalue": "name 'columns' is not defined",
     "output_type": "error",
     "traceback": [
      "\u001b[1;31m---------------------------------------------------------------------------\u001b[0m",
      "\u001b[1;31mNameError\u001b[0m                                 Traceback (most recent call last)",
      "Cell \u001b[1;32mIn[1], line 19\u001b[0m\n\u001b[0;32m      1\u001b[0m \u001b[38;5;66;03m##instead of function, for each column that has a DQ add a column that has eligibility points. if b/w 71-78 +1, if 70+0 if <70 +1\u001b[39;00m\n\u001b[0;32m      2\u001b[0m \u001b[38;5;66;03m## this will show how many domains they'd qualify on \u001b[39;00m\n\u001b[0;32m      3\u001b[0m \u001b[38;5;66;03m# def standard_approval(columns):\u001b[39;00m\n\u001b[1;32m   (...)\u001b[0m\n\u001b[0;32m     16\u001b[0m \n\u001b[0;32m     17\u001b[0m \u001b[38;5;66;03m#             bdi3_df.loc[index, 'Standard Approval'] = True\u001b[39;00m\n\u001b[1;32m---> 19\u001b[0m \u001b[38;5;28;01mfor\u001b[39;00m item \u001b[38;5;129;01min\u001b[39;00m columns:\n\u001b[0;32m     20\u001b[0m     bdi3_df[\u001b[38;5;124mf\u001b[39m\u001b[38;5;124m'\u001b[39m\u001b[38;5;132;01m{\u001b[39;00mitem\u001b[38;5;132;01m}\u001b[39;00m\u001b[38;5;124m points\u001b[39m\u001b[38;5;124m'\u001b[39m] \u001b[38;5;241m=\u001b[39m []\n",
      "\u001b[1;31mNameError\u001b[0m: name 'columns' is not defined"
     ]
    }
   ],
   "source": [
    "##instead of function, for each column that has a DQ add a column that has eligibility points. if b/w 71-78 +1, if 70+0 if <70 +1\n",
    "## this will show how many domains they'd qualify on \n",
    "# def standard_approval(columns):\n",
    "#     for index, row in bdi3_df.iterrows():\n",
    "#         two_domain_eligibility = 0\n",
    "#         for item in columns:\n",
    "\n",
    "#             if row[item] <= 70:\n",
    "\n",
    "#                 bdi3_df.loc[index, 'Standard Approval'] = True\n",
    "\n",
    "#             elif 71 >= row[item] and row[item] <= 78:\n",
    "#                 two_domain_eligibility += 1\n",
    "#         print(index, row[item], two_domain_eligibility)\n",
    "#         if two_domain_eligibility >= 2:\n",
    "\n",
    "#             bdi3_df.loc[index, 'Standard Approval'] = True\n",
    "\n",
    "for item in columns:\n",
    "    bdi3_df[f'{item} points'] = []"
   ]
  },
  {
   "cell_type": "code",
   "execution_count": null,
   "id": "1621d6dc",
   "metadata": {},
   "outputs": [],
   "source": []
  }
 ],
 "metadata": {
  "kernelspec": {
   "display_name": "Python 3 (ipykernel)",
   "language": "python",
   "name": "python3"
  },
  "language_info": {
   "codemirror_mode": {
    "name": "ipython",
    "version": 3
   },
   "file_extension": ".py",
   "mimetype": "text/x-python",
   "name": "python",
   "nbconvert_exporter": "python",
   "pygments_lexer": "ipython3",
   "version": "3.11.5"
  }
 },
 "nbformat": 4,
 "nbformat_minor": 5
}
