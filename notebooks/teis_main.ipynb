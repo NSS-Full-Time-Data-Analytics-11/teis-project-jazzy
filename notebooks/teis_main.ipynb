{
 "cells": [
  {
   "cell_type": "code",
   "execution_count": null,
   "id": "3ec5e1f6",
   "metadata": {},
   "outputs": [],
   "source": [
    "import pandas as pd\n",
    "import numpy as np\n",
    "import re\n",
    "import datetime"
   ]
  },
  {
   "cell_type": "code",
   "execution_count": null,
   "id": "897d09e8",
   "metadata": {
    "scrolled": true
   },
   "outputs": [],
   "source": [
    "data = pd.read_csv('../data/all_evals_clean.csv', dtype = {'Child ID':object})\n",
    "data = data.set_index('Index')\n",
    "data.head(20)"
   ]
  },
  {
   "cell_type": "code",
   "execution_count": null,
   "id": "77a95817",
   "metadata": {},
   "outputs": [],
   "source": [
    "data_desc = data.describe()\n",
    "data_desc"
   ]
  },
  {
   "cell_type": "markdown",
   "id": "9a9df7b4",
   "metadata": {},
   "source": [
    "### We need to make the date columns datetime64 instead of objects"
   ]
  },
  {
   "cell_type": "code",
   "execution_count": null,
   "id": "4d6ecebe",
   "metadata": {},
   "outputs": [],
   "source": [
    "date_cols = []\n",
    "pattern = r'Date of'\n",
    "\n",
    "for col in data.columns:\n",
    "    if re.search(pattern,col):\n",
    "        date_cols.append(col)\n",
    "#end"
   ]
  },
  {
   "cell_type": "code",
   "execution_count": null,
   "id": "8f6e601e",
   "metadata": {},
   "outputs": [],
   "source": [
    "len(date_cols)"
   ]
  },
  {
   "cell_type": "code",
   "execution_count": null,
   "id": "dd9e6de0",
   "metadata": {},
   "outputs": [],
   "source": [
    "data[date_cols] = data[date_cols].apply(pd.to_datetime)\n",
    "list(data.dtypes)"
   ]
  },
  {
   "cell_type": "markdown",
   "id": "44cbb23c",
   "metadata": {},
   "source": [
    "### Let's define a slice function to make sub-tables based on domain"
   ]
  },
  {
   "cell_type": "code",
   "execution_count": null,
   "id": "5fec2b85",
   "metadata": {},
   "outputs": [],
   "source": [
    "def slice_data(data, domain):\n",
    "    \n",
    "    pattern = re.compile(domain)\n",
    "    \n",
    "    new_cols = []\n",
    "    \n",
    "    for col in data.columns:\n",
    "        if (re.search(pattern,col)):\n",
    "            new_cols.append(col)\n",
    "    #end\n",
    "    \n",
    "    new_df = data[new_cols]\n",
    "    \n",
    "    return new_df"
   ]
  },
  {
   "cell_type": "code",
   "execution_count": null,
   "id": "5ad3c827",
   "metadata": {},
   "outputs": [],
   "source": [
    "domains = ['Adaptive', 'Social', 'Communication', 'Motor', 'Cognitive', 'Total']"
   ]
  },
  {
   "cell_type": "code",
   "execution_count": null,
   "id": "349a750e",
   "metadata": {},
   "outputs": [],
   "source": [
    "df_dict = {}\n",
    "\n",
    "for domain in domains:\n",
    "    df = slice_data(data,domain)\n",
    "    df_dict[domain] = df"
   ]
  },
  {
   "cell_type": "code",
   "execution_count": null,
   "id": "80b50f9f",
   "metadata": {},
   "outputs": [],
   "source": [
    "adapt = df_dict['Adaptive']\n",
    "soc   = df_dict['Social']\n",
    "comm  = df_dict['Communication']\n",
    "motor = df_dict['Motor']\n",
    "cogn  = df_dict['Cognitive']\n",
    "total = df_dict['Total']"
   ]
  },
  {
   "cell_type": "code",
   "execution_count": null,
   "id": "774cb150",
   "metadata": {},
   "outputs": [],
   "source": [
    "adapt.describe()"
   ]
  },
  {
   "cell_type": "code",
   "execution_count": null,
   "id": "add3b011",
   "metadata": {},
   "outputs": [],
   "source": [
    "adapt"
   ]
  },
  {
   "cell_type": "markdown",
   "id": "b58d7887",
   "metadata": {},
   "source": [
    "# 4. Does the child's age seem to impact their scoring?\n",
    "\n",
    "We need to determine how to get the child's age at the time of testing. To do this, we need to subtract their birthday from the date of testing. However, this can be tricky because some testing was done on multiple days.\n",
    "\n",
    "For now, let's just get a simple case to work (that is, not worry about the different test dates just yet).\n",
    "\n",
    "### First, let's get everyone's ages"
   ]
  },
  {
   "cell_type": "code",
   "execution_count": null,
   "id": "9dfa76e9",
   "metadata": {},
   "outputs": [],
   "source": [
    "ages = []\n",
    "\n",
    "for ind, values in data.iterrows():\n",
    "    date_col = 2\n",
    "    try:\n",
    "        #print(ind, data.loc[ind,'Date of Birth'], data.loc[ind,'Adaptive-Self Care Date of Testing'])\n",
    "        birthday = data.loc[ind,'Date of Birth']\n",
    "        testing  = datetime.datetime.strptime(adapt.loc[ind,'Adaptive-Self Care Date of Testing'],'%m/%d/%Y')\n",
    "        #print(birthday, testing)\n",
    "        #print(type(birthday),type(testing))\n",
    "        age = (testing - birthday).days\n",
    "        ages.append(age)\n",
    "        \n",
    "    except:\n",
    "        while date_col < 14:\n",
    "            \n",
    "            print('EXCEPTION:',ind, data.loc[ind,'Date of Birth'], data.loc[ind,date_cols[date_col]],\n",
    "                  '\\nTrying column',date_cols[date_col])\n",
    "            \n",
    "            if type(data.loc[ind,date_cols[date_col]]) == str:\n",
    "                print(ind,data.loc[ind,'Date of Birth'], data.loc[ind,date_cols[date_col]])\n",
    "                birthday = data.loc[ind,'Date of Birth']\n",
    "                testing  = data.loc[ind,date_cols[date_col]]\n",
    "                #print(birthday, testing)\n",
    "                #print(type(birthday),type(testing))\n",
    "                age = (testing - birthday).days\n",
    "                ages.append(age)\n",
    "                print('CLEAR')\n",
    "                break\n",
    "\n",
    "            else:\n",
    "                date_col += 1\n",
    "        \n",
    "        ages.append(np.nan)\n",
    "        print('CLEAR: NULL')"
   ]
  },
  {
   "cell_type": "code",
   "execution_count": null,
   "id": "adf25789",
   "metadata": {},
   "outputs": [],
   "source": [
    "ages"
   ]
  },
  {
   "cell_type": "code",
   "execution_count": null,
   "id": "271eeb7e",
   "metadata": {},
   "outputs": [],
   "source": [
    "len(ages)"
   ]
  },
  {
   "cell_type": "code",
   "execution_count": null,
   "id": "49ec722f",
   "metadata": {},
   "outputs": [],
   "source": [
    "ages = np.asarray(ages)\n",
    "ages"
   ]
  },
  {
   "cell_type": "code",
   "execution_count": null,
   "id": "646e36fc",
   "metadata": {},
   "outputs": [],
   "source": [
    "ages_year = np.floor(ages/365)\n",
    "ages_year"
   ]
  },
  {
   "cell_type": "code",
   "execution_count": null,
   "id": "ed8457a8",
   "metadata": {
    "scrolled": true
   },
   "outputs": [],
   "source": [
    "data['Age'] = ages_year\n",
    "data"
   ]
  },
  {
   "cell_type": "markdown",
   "id": "f0a7cc41",
   "metadata": {},
   "source": [
    "### Next, let's get some stats in there!"
   ]
  },
  {
   "cell_type": "code",
   "execution_count": null,
   "id": "d0c2ac54",
   "metadata": {},
   "outputs": [],
   "source": [
    "max(data.Age)"
   ]
  },
  {
   "cell_type": "code",
   "execution_count": null,
   "id": "f95901fb",
   "metadata": {},
   "outputs": [],
   "source": [
    "age_desc = data.groupby('Age').mean(numeric_only = True)\n",
    "age_desc"
   ]
  },
  {
   "cell_type": "code",
   "execution_count": null,
   "id": "8456d86c",
   "metadata": {},
   "outputs": [],
   "source": []
  }
 ],
 "metadata": {
  "kernelspec": {
   "display_name": "Python 3 (ipykernel)",
   "language": "python",
   "name": "python3"
  },
  "language_info": {
   "codemirror_mode": {
    "name": "ipython",
    "version": 3
   },
   "file_extension": ".py",
   "mimetype": "text/x-python",
   "name": "python",
   "nbconvert_exporter": "python",
   "pygments_lexer": "ipython3",
   "version": "3.11.4"
  }
 },
 "nbformat": 4,
 "nbformat_minor": 5
}
