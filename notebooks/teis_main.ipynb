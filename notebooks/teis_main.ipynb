{
 "cells": [
  {
   "cell_type": "code",
   "execution_count": null,
   "id": "3ec5e1f6",
   "metadata": {},
   "outputs": [],
   "source": [
    "import pandas as pd\n",
    "import numpy as np\n",
    "import re\n",
    "import datetime\n",
    "import seaborn as sns\n",
    "import matplotlib.pyplot as plt"
   ]
  },
  {
   "cell_type": "code",
   "execution_count": null,
   "id": "897d09e8",
   "metadata": {
    "scrolled": true
   },
   "outputs": [],
   "source": [
    "data = pd.read_csv('../data/all_evals_clean.csv', dtype = {'Child ID':object})\n",
    "data = data.set_index('Index')\n",
    "data.head(20)"
   ]
  },
  {
   "cell_type": "code",
   "execution_count": null,
   "id": "77a95817",
   "metadata": {},
   "outputs": [],
   "source": [
    "data_desc = data.describe()\n",
    "data_desc"
   ]
  },
  {
   "cell_type": "markdown",
   "id": "9a9df7b4",
   "metadata": {},
   "source": [
    "### We need to make the date columns datetime64 instead of objects"
   ]
  },
  {
   "cell_type": "code",
   "execution_count": null,
   "id": "4d6ecebe",
   "metadata": {},
   "outputs": [],
   "source": [
    "date_cols = []\n",
    "pattern = r'Date of'\n",
    "\n",
    "for col in data.columns:\n",
    "    if re.search(pattern,col):\n",
    "        date_cols.append(col)\n",
    "#end"
   ]
  },
  {
   "cell_type": "code",
   "execution_count": null,
   "id": "8f6e601e",
   "metadata": {},
   "outputs": [],
   "source": [
    "len(date_cols)"
   ]
  },
  {
   "cell_type": "code",
   "execution_count": null,
   "id": "dd9e6de0",
   "metadata": {},
   "outputs": [],
   "source": [
    "data[date_cols] = data[date_cols].apply(pd.to_datetime)\n",
    "list(data.dtypes)"
   ]
  },
  {
   "cell_type": "markdown",
   "id": "44cbb23c",
   "metadata": {},
   "source": [
    "### Let's define a slice function to make sub-tables based on domain"
   ]
  },
  {
   "cell_type": "code",
   "execution_count": null,
   "id": "5fec2b85",
   "metadata": {},
   "outputs": [],
   "source": [
    "def slice_data(data, domain):\n",
    "    \n",
    "    pattern = re.compile(domain)\n",
    "    \n",
    "    new_cols = []\n",
    "    \n",
    "    for col in data.columns:\n",
    "        if (re.search(pattern,col)):\n",
    "            new_cols.append(col)\n",
    "    #end\n",
    "    \n",
    "    new_df = data[new_cols]\n",
    "    \n",
    "    return new_df"
   ]
  },
  {
   "cell_type": "code",
   "execution_count": null,
   "id": "5ad3c827",
   "metadata": {},
   "outputs": [],
   "source": [
    "domains = ['Adaptive', 'Social', 'Communication', 'Motor', 'Cognitive', 'Total']"
   ]
  },
  {
   "cell_type": "code",
   "execution_count": null,
   "id": "349a750e",
   "metadata": {},
   "outputs": [],
   "source": [
    "df_dict = {}\n",
    "\n",
    "for domain in domains:\n",
    "    df = slice_data(data,domain)\n",
    "    df_dict[domain] = df"
   ]
  },
  {
   "cell_type": "code",
   "execution_count": null,
   "id": "80b50f9f",
   "metadata": {},
   "outputs": [],
   "source": [
    "adapt = df_dict['Adaptive']\n",
    "soc   = df_dict['Social']\n",
    "comm  = df_dict['Communication']\n",
    "motor = df_dict['Motor']\n",
    "cogn  = df_dict['Cognitive']\n",
    "total = df_dict['Total']"
   ]
  },
  {
   "cell_type": "code",
   "execution_count": null,
   "id": "774cb150",
   "metadata": {
    "scrolled": true
   },
   "outputs": [],
   "source": [
    "adapt.describe()"
   ]
  },
  {
   "cell_type": "code",
   "execution_count": null,
   "id": "add3b011",
   "metadata": {
    "scrolled": true
   },
   "outputs": [],
   "source": [
    "adapt"
   ]
  },
  {
   "cell_type": "markdown",
   "id": "b58d7887",
   "metadata": {},
   "source": [
    "# 4. Does the child's age seem to impact their scoring?\n",
    "\n",
    "We need to determine how to get the child's age at the time of testing. To do this, we need to subtract their birthday from the date of testing. However, this can be tricky because some testing was done on multiple days.\n",
    "\n",
    "For now, let's just get a simple case to work (that is, not worry about the different test dates just yet).\n",
    "\n",
    "### First, let's get everyone's ages"
   ]
  },
  {
   "cell_type": "code",
   "execution_count": null,
   "id": "9dfa76e9",
   "metadata": {},
   "outputs": [],
   "source": [
    "ages_list = []\n",
    "\n",
    "for ind, values in data.iterrows():\n",
    "    date_col = 2\n",
    "    #print('DATA:',ind, data.loc[ind,'Date of Birth'], data.loc[ind,'Adaptive-Self Care Date of Testing'],\n",
    "    #      '\\n',type(data.loc[ind,'Date of Birth']), type(data.loc[ind,'Adaptive-Self Care Date of Testing']))\n",
    "    try:\n",
    "        #print('TRY:',ind, data.loc[ind,'Date of Birth'], data.loc[ind,'Adaptive-Self Care Date of Testing'])\n",
    "        birthday = data.loc[ind,'Date of Birth']\n",
    "        #print('\\tGot birthday')\n",
    "        #testing  = datetime.datetime.strptime(data.loc[ind,'Adaptive-Self Care Date of Testing'],'%m/%d/%Y %H:%M:%S')\n",
    "        testing = data.loc[ind,'Adaptive-Self Care Date of Testing']\n",
    "        #print('\\t',birthday, testing)\n",
    "        #print('\\t',type(birthday),type(testing))\n",
    "        age = (testing - birthday).days\n",
    "        ages_list.append(age)\n",
    "        \n",
    "    except:\n",
    "        while date_col < 14:\n",
    "            \n",
    "            #print('EXCEPTION:',ind, data.loc[ind,'Date of Birth'], data.loc[ind,date_cols[date_col]],\n",
    "            #      '\\nTrying column',date_cols[date_col])\n",
    "            \n",
    "            if type(data.loc[ind,date_cols[date_col]]) == str:\n",
    "                #print(ind,data.loc[ind,'Date of Birth'], data.loc[ind,date_cols[date_col]])\n",
    "                birthday = data.loc[ind,'Date of Birth']\n",
    "                #print('\\tGot birthday')\n",
    "                testing  = data.loc[ind,date_cols[date_col]]\n",
    "                #print('\\t',birthday, testing)\n",
    "                #print('\\t',type(birthday),type(testing))\n",
    "                age = (testing - birthday).days\n",
    "                ages_list.append(age)\n",
    "                #print('CLEAR')\n",
    "                break\n",
    "\n",
    "            else:\n",
    "                date_col += 1\n",
    "        \n",
    "        ages_list.append(np.nan)\n",
    "        #print('CLEAR: NULL')"
   ]
  },
  {
   "cell_type": "code",
   "execution_count": null,
   "id": "49ec722f",
   "metadata": {},
   "outputs": [],
   "source": [
    "ages = np.asarray(ages_list)\n",
    "ages"
   ]
  },
  {
   "cell_type": "code",
   "execution_count": null,
   "id": "646e36fc",
   "metadata": {},
   "outputs": [],
   "source": [
    "ages_year = np.round(ages/365,1)\n",
    "ages_year"
   ]
  },
  {
   "cell_type": "code",
   "execution_count": null,
   "id": "ed8457a8",
   "metadata": {
    "scrolled": true
   },
   "outputs": [],
   "source": [
    "data['Age'] = ages_year\n",
    "data"
   ]
  },
  {
   "cell_type": "markdown",
   "id": "f0a7cc41",
   "metadata": {},
   "source": [
    "### Next, let's get some stats in there!"
   ]
  },
  {
   "cell_type": "code",
   "execution_count": null,
   "id": "7dbf897a",
   "metadata": {
    "scrolled": true
   },
   "outputs": [],
   "source": [
    "data.value_counts('Age')"
   ]
  },
  {
   "cell_type": "code",
   "execution_count": null,
   "id": "f95901fb",
   "metadata": {},
   "outputs": [],
   "source": [
    "age_desc = data.groupby('Age').mean(numeric_only = True)\n",
    "age_desc"
   ]
  },
  {
   "cell_type": "code",
   "execution_count": null,
   "id": "f9af1688",
   "metadata": {},
   "outputs": [],
   "source": [
    "### Setting our color palatte!\n",
    "colors = [\"#C37681\", \"#5BAC82\", \"#838385\",\"#89C1DF\",\"#EAE086\"]\n",
    "\n",
    "# Set your custom color palette\n",
    "sns.set_palette(sns.color_palette(colors))"
   ]
  },
  {
   "cell_type": "markdown",
   "id": "893a7236",
   "metadata": {},
   "source": [
    "### Sum of Scaled Scores"
   ]
  },
  {
   "cell_type": "code",
   "execution_count": null,
   "id": "06ae23cc",
   "metadata": {},
   "outputs": [],
   "source": [
    "sns.set_style('whitegrid')\n",
    "\n",
    "plt.figure(figsize=(20,12))\n",
    "\n",
    "sns.lineplot(x = age_desc.index, y = 'Adaptive Sum of Scaled Scores', data = age_desc, linestyle = 'dashed',\n",
    "             label = 'Adaptive');\n",
    "sns.lineplot(x = age_desc.index, y = 'Social-Emotional Sum of Scaled Scores', data = age_desc, linestyle = 'dashed',\n",
    "             label = 'Social-Emotional');\n",
    "sns.lineplot(x = age_desc.index, y = 'Communication Sum of Scaled Scores', data = age_desc, linestyle = 'dashed',\n",
    "             label = 'Communication');\n",
    "sns.lineplot(x = age_desc.index, y = 'Motor Sum of Scaled Scores', data = age_desc, linestyle = 'dashed',\n",
    "             label = 'Motor');\n",
    "sns.lineplot(x = age_desc.index, y = 'Cognitive Sum of Scaled Scores', data = age_desc, linestyle = 'dashed',\n",
    "             label = 'Cognitive');\n",
    "\n",
    "plt.ylabel('Average Sum of Scaled Scores', size=20)\n",
    "plt.xlabel('Age',size=20)\n",
    "plt.title('Average Sum of Scaled Scores by Age', size=25)\n",
    "\n",
    "plt.legend(fontsize = 15)\n",
    "\n",
    "plt.show()"
   ]
  },
  {
   "cell_type": "markdown",
   "id": "fb2fe800",
   "metadata": {},
   "source": [
    "### Percentile Rank"
   ]
  },
  {
   "cell_type": "code",
   "execution_count": null,
   "id": "3543bbfd",
   "metadata": {},
   "outputs": [],
   "source": [
    "sns.set_style('whitegrid')\n",
    "\n",
    "fig = plt.figure(figsize=(20,12))\n",
    "ax = fig.add_subplot()\n",
    "\n",
    "sns.lineplot(x = age_desc.index, y = 'Adaptive Percentile Rank', data = age_desc, linestyle = 'solid', linewidth = 5,\n",
    "             label = 'Adaptive');\n",
    "sns.lineplot(x = age_desc.index, y = 'Social-Emotional Percentile Rank', data = age_desc, linestyle = 'solid', linewidth = 5,\n",
    "             label = 'Social-Emotional');\n",
    "sns.lineplot(x = age_desc.index, y = 'Communication Percentile Rank', data = age_desc, linestyle = 'solid', linewidth = 5,\n",
    "             label = 'Communication');\n",
    "sns.lineplot(x = age_desc.index, y = 'Motor Percentile Rank', data = age_desc, linestyle = 'solid', linewidth = 5,\n",
    "             label = 'Motor');\n",
    "sns.lineplot(x = age_desc.index, y = 'Cognitive Percentile Rank', data = age_desc, linestyle = 'solid', linewidth = 5,\n",
    "             label = 'Cognitive');\n",
    "#sns.lineplot(x = age_desc.index, y = 'BDI-3 Total Percentile Rank', data = age_desc, linestyle = 'solid',color='black',\n",
    "#             label = 'Total');\n",
    "\n",
    "plt.ylabel('Percentile Ranks', size=20)\n",
    "plt.xlabel('Age (Years)',size=20)\n",
    "plt.title('Percentile Ranks by Age', size=25)\n",
    "ax.tick_params(axis = 'both', labelsize = 20)\n",
    "\n",
    "plt.legend(fontsize = 25)\n",
    "\n",
    "plt.savefig('../images/pr_by_age_all')\n",
    "\n",
    "plt.show();"
   ]
  },
  {
   "cell_type": "markdown",
   "id": "081335d1",
   "metadata": {},
   "source": [
    "Between the ages of 1 and 4, Adaptive and Cognitive seem to be highly correlated. Let's look into that."
   ]
  },
  {
   "cell_type": "code",
   "execution_count": null,
   "id": "7ee0cae4",
   "metadata": {
    "scrolled": false
   },
   "outputs": [],
   "source": [
    "per_cols = []\n",
    "pattern = r'Percentile Rank'\n",
    "\n",
    "for col in age_desc.columns:\n",
    "    if re.search(pattern,col):\n",
    "        per_cols.append(col)\n",
    "\n",
    "age_corr = age_desc[per_cols].corr()\n",
    "age_corr"
   ]
  },
  {
   "cell_type": "markdown",
   "id": "72158a2f",
   "metadata": {},
   "source": [
    "It seems that those two aren't correlated that much. The highest correlations belong to the Total Percentile Rank to the other columns (which makes sense because it's dependent on those other columns), except for Motor. It seems that Motor Percentile Rank is the least likely to impact the Total. I'm not sure why, but it could be something to look into.\n",
    "\n",
    "### Let's make a heatmap!"
   ]
  },
  {
   "cell_type": "code",
   "execution_count": null,
   "id": "b9104fd6",
   "metadata": {
    "scrolled": true
   },
   "outputs": [],
   "source": [
    "sns.set_style('white')\n",
    "\n",
    "fig, ax = plt.subplots(figsize=(6, 6));\n",
    "\n",
    "# create a custom diverging colormap\n",
    "cmap = sns.diverging_palette(220, 10, as_cmap=True)\n",
    "\n",
    "# Generate a mask for the upper triangle\n",
    "mask = np.zeros_like(age_corr, dtype=bool)\n",
    "mask[np.triu_indices_from(mask)] = True\n",
    "\n",
    "# Draw the heatmap with the mask and correct aspect ratio\n",
    "sns.heatmap(age_corr, cmap=cmap, mask = mask, center=0,\n",
    "            square=True, linewidths=.5, cbar_kws={\"shrink\": .5});\n",
    "\n",
    "plt.xlabels = (['Adaptive', 'Social-Emotional', 'Communication', 'Motor', 'Cognitive', 'Total']);\n",
    "plt.ylabels = (['Adaptive', 'Social-Emotional', 'Communication', 'Motor', 'Cognitive', 'Total']);\n",
    "plt.title('Domain PR Correlation Heatmap');"
   ]
  },
  {
   "cell_type": "markdown",
   "id": "23e3a8e5",
   "metadata": {},
   "source": [
    "Now let's investigate separate domains"
   ]
  },
  {
   "cell_type": "code",
   "execution_count": null,
   "id": "e6b48430",
   "metadata": {},
   "outputs": [],
   "source": [
    "df = df_dict['Adaptive']\n",
    "\n",
    "pattern = r'PR'\n",
    "pr_cols = []\n",
    "\n",
    "for col in df.columns:\n",
    "    if re.search(pattern,col):\n",
    "        pr_cols.append(col)\n",
    "#end\n",
    "\n",
    "domain_pr = df[pr_cols]\n",
    "domain_pr.loc[:,'Age'] = data['Age']\n",
    "\n",
    "#domain_pr.groupby('Age').mean()\n",
    "domain_pr"
   ]
  },
  {
   "cell_type": "code",
   "execution_count": null,
   "id": "d89936fc",
   "metadata": {},
   "outputs": [],
   "source": [
    "domain_pr.loc[(~pd.isna(domain_pr['Adaptive-Personal Responsibility PR'])) & (domain_pr['Age']<2)]"
   ]
  },
  {
   "cell_type": "markdown",
   "id": "c33545f4",
   "metadata": {},
   "source": [
    "### There is not a single child less than 2 years old who took the Personal Responsibility Test. This is evident by that fact that this is no Percentile Rank for this age group.\n",
    "\n",
    "Let's see what other domains are like"
   ]
  },
  {
   "cell_type": "code",
   "execution_count": null,
   "id": "ef0e1f10",
   "metadata": {
    "scrolled": true
   },
   "outputs": [],
   "source": [
    "def age_sub_domain(domain):\n",
    "    \n",
    "    df = df_dict[domain]\n",
    "    \n",
    "    pattern = r'PR'\n",
    "    pr_cols = []\n",
    "\n",
    "    for col in df.columns:\n",
    "        if re.search(pattern,col):\n",
    "            pr_cols.append(col)\n",
    "    #end\n",
    "\n",
    "    domain_pr = df[pr_cols]\n",
    "    domain_pr.loc[:,'Age'] = data['Age']\n",
    "\n",
    "    return domain_pr.groupby('Age').mean()"
   ]
  },
  {
   "cell_type": "code",
   "execution_count": null,
   "id": "2c917183",
   "metadata": {},
   "outputs": [],
   "source": [
    "age_sub_domain('Adaptive')"
   ]
  },
  {
   "cell_type": "markdown",
   "id": "bfb4d2f8",
   "metadata": {},
   "source": [
    "### Again, we can see that anyone under 2 does not take the Personal Responsibility Test."
   ]
  },
  {
   "cell_type": "code",
   "execution_count": null,
   "id": "992bea48",
   "metadata": {},
   "outputs": [],
   "source": [
    "age_pr_subs = {}\n",
    "\n",
    "for domain in domains:\n",
    "    df = age_sub_domain(domain)\n",
    "    age_pr_subs[domain] = df"
   ]
  },
  {
   "cell_type": "code",
   "execution_count": null,
   "id": "3135a031",
   "metadata": {},
   "outputs": [],
   "source": [
    "age_pr_subs.keys()"
   ]
  },
  {
   "cell_type": "code",
   "execution_count": null,
   "id": "5f65720b",
   "metadata": {},
   "outputs": [],
   "source": [
    "adapt_age  = age_pr_subs['Adaptive']\n",
    "social_age = age_pr_subs['Social']\n",
    "comm_age   = age_pr_subs['Communication']\n",
    "motor_age  = age_pr_subs['Motor']\n",
    "cogn_age   = age_pr_subs['Cognitive']"
   ]
  },
  {
   "cell_type": "code",
   "execution_count": null,
   "id": "98897576",
   "metadata": {},
   "outputs": [],
   "source": [
    "social_age"
   ]
  },
  {
   "cell_type": "code",
   "execution_count": null,
   "id": "9b077bbf",
   "metadata": {},
   "outputs": [],
   "source": [
    "comm_age"
   ]
  },
  {
   "cell_type": "code",
   "execution_count": null,
   "id": "24841cd6",
   "metadata": {},
   "outputs": [],
   "source": [
    "motor_age"
   ]
  },
  {
   "cell_type": "code",
   "execution_count": null,
   "id": "c3060831",
   "metadata": {},
   "outputs": [],
   "source": [
    "cogn_age"
   ]
  },
  {
   "cell_type": "markdown",
   "id": "c1b8ec8c",
   "metadata": {},
   "source": [
    "## Note: Communication is the only domain where *all* ages are tested in all sub-domains.\n",
    "\n",
    "This explains why the Sum of Scaled Scores jumps up for all domains at Age 2 *except* communication. "
   ]
  },
  {
   "cell_type": "code",
   "execution_count": null,
   "id": "c42ab9fd",
   "metadata": {},
   "outputs": [],
   "source": [
    "domain_colors = {'Adaptive':['#D59FA6','#9C5E67'], 'Social':['#9CCDB4','#5bac82','#3F785B'],\n",
    "                'Communication':['#B4B4B5','#4E4E4F'], 'Motor':['#C4DFEE','#89c1df','#527385'],\n",
    "                'Cognitive':['#EAE086','#BBB36B','#8C8650']}"
   ]
  },
  {
   "cell_type": "code",
   "execution_count": null,
   "id": "177c5e68",
   "metadata": {},
   "outputs": [],
   "source": [
    "data.value_counts('Age').loc[4.0]"
   ]
  },
  {
   "cell_type": "code",
   "execution_count": null,
   "id": "3a30a7d0",
   "metadata": {},
   "outputs": [],
   "source": [
    "np.arange(41)/10"
   ]
  },
  {
   "cell_type": "code",
   "execution_count": null,
   "id": "b36740ba",
   "metadata": {
    "scrolled": true
   },
   "outputs": [],
   "source": [
    "col = data['Adaptive-Self Care PR']\n",
    "x = np.arange(41)/10\n",
    "y = np.asarray(data[['Adaptive-Self Care PR','Age']].groupby('Age').mean()['Adaptive-Self Care PR'])\n",
    "diff = np.asarray((1/(data.value_counts(['Age']))).to_frame().sort_index().rename(columns = {0:'diff'})['diff'])\n",
    "\n",
    "y1 = y - diff\n",
    "y2 = y + diff"
   ]
  },
  {
   "cell_type": "code",
   "execution_count": null,
   "id": "182ae03e",
   "metadata": {
    "scrolled": true
   },
   "outputs": [],
   "source": [
    "for domain in domains:\n",
    "    \n",
    "    if domain == 'Total':\n",
    "        break\n",
    "    \n",
    "    age_df = age_pr_subs[domain]\n",
    "    \n",
    "    sns.set_style('whitegrid')\n",
    "\n",
    "    fig = plt.figure(figsize=(20,12))\n",
    "    ax  = fig.add_subplot()\n",
    "    \n",
    "    \n",
    "    grays = ['#d3d3d3', '#e0e0e0', '#ededed']\n",
    "    \n",
    "    i = 0\n",
    "    for col in age_df.columns:\n",
    "        \n",
    "        sns.lineplot(x = age_df.index, y = col, data = age_df, linestyle = 'solid', linewidth = 5,\n",
    "                     color = domain_colors[domain][i], label = col.split('-')[1]);\n",
    "\n",
    "        x = np.arange(41)/10\n",
    "        y = np.asarray(data[[col,'Age']].groupby('Age').mean()[col])\n",
    "        diff = np.asarray((1/(data.value_counts(['Age']))).to_frame().sort_index().rename(columns = {0:'diff'})['diff'])*50\n",
    "\n",
    "        y1 = y - diff\n",
    "        y2 = y + diff\n",
    "        \n",
    "        plt.fill_between(x, y1 = y1, y2 = y2, color = grays[i])\n",
    "\n",
    "        \n",
    "        #data.value_counts('Age')\n",
    "        \n",
    "        \n",
    "        i += 1\n",
    "\n",
    "    plt.ylabel('Sub-Domain PR', size=20)\n",
    "    plt.xlabel('Age (Years)',size=20)\n",
    "    ax.tick_params(axis = 'both', labelsize = 20)\n",
    "    \n",
    "    \n",
    "    if domain != 'Social':\n",
    "        plt.title(f'{domain} Percentile Ranks by Age', size=25)\n",
    "    else:\n",
    "        plt.title('Social-Emotional Percentile Ranks by Age', size=25)\n",
    "\n",
    "    plt.legend(fontsize = 20)\n",
    "\n",
    "    plt.savefig(f'../images/pr_by_age_{domain}')\n",
    "    \n",
    "    plt.show();\n",
    "    print('\\n\\n')"
   ]
  },
  {
   "cell_type": "markdown",
   "id": "51850ff3",
   "metadata": {},
   "source": [
    "### I'm now taking a detour to Question 1 so that we can get a visualization for it."
   ]
  },
  {
   "cell_type": "code",
   "execution_count": null,
   "id": "fe1e6057",
   "metadata": {},
   "outputs": [],
   "source": [
    "pr_cols = []\n",
    "pattern = r'PR'\n",
    "\n",
    "for col in data.columns:\n",
    "    if re.search(pattern,col):\n",
    "        pr_cols.append(col)\n",
    "#end\n",
    "\n",
    "pr_data = data[pr_cols]"
   ]
  },
  {
   "cell_type": "code",
   "execution_count": null,
   "id": "500c9236",
   "metadata": {},
   "outputs": [],
   "source": [
    "pr_data"
   ]
  },
  {
   "cell_type": "code",
   "execution_count": null,
   "id": "b31456d4",
   "metadata": {},
   "outputs": [],
   "source": [
    "fig, ax = plt.subplots(2,3, figsize=(12,8))\n",
    "\n",
    "for col in pr_data.columns:\n",
    "    domain = col.split('-')[0].split(' ')[0]\n",
    "    color = domain_colors[domain][1]\n",
    "    \n",
    "    sns.boxplot(pr_data[col], color = color)"
   ]
  },
  {
   "cell_type": "markdown",
   "id": "aae46733",
   "metadata": {},
   "source": [
    "### Never mind. Let's try something else..."
   ]
  },
  {
   "cell_type": "code",
   "execution_count": null,
   "id": "e823b175",
   "metadata": {},
   "outputs": [],
   "source": [
    "comm"
   ]
  },
  {
   "cell_type": "code",
   "execution_count": null,
   "id": "f76c95b0",
   "metadata": {},
   "outputs": [],
   "source": [
    "pr_cols = []\n",
    "pattern  = r'PR'\n",
    "pattern2 = r'Percentile Rank'\n",
    "\n",
    "for col in comm.columns:\n",
    "    if re.search(pattern,col) or re.search(pattern2,col):\n",
    "        pr_cols.append(col)\n",
    "#end\n",
    "\n",
    "pr_comm = comm[pr_cols]\n",
    "pr_comm"
   ]
  },
  {
   "cell_type": "code",
   "execution_count": null,
   "id": "d535c706",
   "metadata": {},
   "outputs": [],
   "source": [
    "pr_comm.describe()"
   ]
  },
  {
   "cell_type": "code",
   "execution_count": null,
   "id": "28df2841",
   "metadata": {
    "scrolled": false
   },
   "outputs": [],
   "source": [
    "fig, ax = plt.subplots(1, figsize=(20,12))\n",
    "\n",
    "grays = ['#d3d3d3', '#e0e0e0', '#ededed']\n",
    "\n",
    "sns.boxplot(data=pr_comm, palette = grays)\n",
    "ax.tick_params(axis = 'both', labelsize = 17)\n",
    "plt.ylabel('Percentile Rank', size = 20);\n",
    "\n",
    "plt.savefig('../images/communication_pr.png')"
   ]
  },
  {
   "cell_type": "code",
   "execution_count": null,
   "id": "3f83627d",
   "metadata": {},
   "outputs": [],
   "source": []
  }
 ],
 "metadata": {
  "kernelspec": {
   "display_name": "Python 3 (ipykernel)",
   "language": "python",
   "name": "python3"
  },
  "language_info": {
   "codemirror_mode": {
    "name": "ipython",
    "version": 3
   },
   "file_extension": ".py",
   "mimetype": "text/x-python",
   "name": "python",
   "nbconvert_exporter": "python",
   "pygments_lexer": "ipython3",
   "version": "3.11.4"
  }
 },
 "nbformat": 4,
 "nbformat_minor": 5
}
